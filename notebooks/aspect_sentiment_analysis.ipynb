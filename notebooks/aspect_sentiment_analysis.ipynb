{
 "cells": [
  {
   "cell_type": "markdown",
   "metadata": {},
   "source": [
    "#### Browsing the checkpoints"
   ]
  },
  {
   "cell_type": "code",
   "execution_count": null,
   "metadata": {},
   "outputs": [],
   "source": [
    "from pyabsa import available_checkpoints"
   ]
  },
  {
   "cell_type": "code",
   "execution_count": null,
   "metadata": {},
   "outputs": [],
   "source": [
    "checkpoint_map = available_checkpoints(show_ckpts=True)"
   ]
  },
  {
   "cell_type": "code",
   "execution_count": 22,
   "metadata": {},
   "outputs": [
    {
     "data": {
      "text/plain": [
       "{'2.3.0': {'APC': {'multilingual': {'id': '',\n",
       "    'Training Model': 'FAST-LCF-BERT-Deberta',\n",
       "    'Training Dataset': 'APCDatasetList.Multilingual',\n",
       "    'Language': 'Multilingual',\n",
       "    'Description': 'Trained on RTX3090',\n",
       "    'Available Version': '2.3.0+',\n",
       "    'Checkpoint File': 'fast_lcf_bert_Multilingual_acc_87.28_f1_81.33.zip',\n",
       "    'Author': 'H, Yang (hy345@exeter.ac.uk)'},\n",
       "   'english': {'id': '',\n",
       "    'Training Model': 'FAST-LSA-T-V2-Deberta',\n",
       "    'Training Dataset': 'APCDatasetList.English',\n",
       "    'Language': 'English',\n",
       "    'Description': 'Trained on RTX3090',\n",
       "    'Available Version': '2.3.0+',\n",
       "    'Checkpoint File': 'fast_lcf_bert_English_acc_84.65_f1_82.39.zip',\n",
       "    'Author': 'H, Yang (hy345@exeter.ac.uk)'},\n",
       "   'chinese': {'id': '',\n",
       "    'Training Model': 'FAST-LSA-T-V2-Deberta',\n",
       "    'Training Dataset': 'APCDatasetList.Chinese',\n",
       "    'Language': 'Chinese',\n",
       "    'Description': 'Trained on RTX3090',\n",
       "    'Available Version': '2.3.0+',\n",
       "    'Checkpoint File': 'fast_lcf_bert_Chinese_acc_93.1_f1_86.21.zip',\n",
       "    'Author': 'H, Yang (hy345@exeter.ac.uk)'}},\n",
       "  'ATEPC': {'multilingual': {'id': '',\n",
       "    'Training Model': 'FAST-LCF-ATEPC',\n",
       "    'Training Dataset': 'ABSADatasets.Multilingual',\n",
       "    'Language': 'Multilingual',\n",
       "    'Description': 'Trained on RTX3090',\n",
       "    'Available Version': '1.16.0+',\n",
       "    'Checkpoint File': 'fast_lcf_atepc_Multilingual_cdw_apcacc_85.1_apcf1_80.2_atef1_76.45.zip',\n",
       "    'Author': 'H, Yang (hy345@exeter.ac.uk)'},\n",
       "   'multilingual-original': {'id': '',\n",
       "    'Training Model': 'FAST-LCF-ATEPC',\n",
       "    'Training Dataset': 'ABSADatasets.Multilingual',\n",
       "    'Language': 'Multilingual',\n",
       "    'Description': 'Trained on RTX3090',\n",
       "    'Available Version': '1.16.0+',\n",
       "    'Checkpoint File': 'fast_lcf_atepc_Multilingual_cdw_apcacc_80.81_apcf1_73.75_atef1_76.01.zip',\n",
       "    'Author': 'H, Yang (hy345@exeter.ac.uk)'},\n",
       "   'multilingual2': {'id': '',\n",
       "    'Training Model': 'FAST-LCF-ATEPC',\n",
       "    'Training Dataset': 'ABSADatasets.Multilingual',\n",
       "    'Language': 'Multilingual',\n",
       "    'Description': 'Trained on RTX3090',\n",
       "    'Available Version': '1.16.0+',\n",
       "    'Checkpoint File': 'fast_lcf_atepc_Multilingual_cdw_apcacc_78.08_apcf1_77.81_atef1_75.41.zip',\n",
       "    'Author': 'H, Yang (hy345@exeter.ac.uk)'},\n",
       "   'english': {'id': '',\n",
       "    'Training Model': 'FAST-LCF-ATEPC',\n",
       "    'Training Dataset': 'ATEPCDatasetList.English',\n",
       "    'Language': 'English',\n",
       "    'Description': 'Trained on RTX3090',\n",
       "    'Available Version': '1.10.5+',\n",
       "    'Checkpoint File': 'fast_lcf_atepc_English_cdw_apcacc_82.36_apcf1_81.89_atef1_75.43.zip',\n",
       "    'Author': 'H, Yang (hy345@exeter.ac.uk)'},\n",
       "   'chinese': {'id': '',\n",
       "    'Training Model': 'FAST-LCF-ATEPC',\n",
       "    'Training Dataset': 'ATEPCDatasetList.Chinese',\n",
       "    'Language': 'Chinese',\n",
       "    'Description': 'Trained on RTX3090',\n",
       "    'Available Version': '1.10.5+',\n",
       "    'Checkpoint File': 'fast_lcf_atepc_Chinese_cdw_apcacc_96.22_apcf1_95.32_atef1_78.73.zip',\n",
       "    'Author': 'H, Yang (hy345@exeter.ac.uk)'}},\n",
       "  'RNAC': {'degrad_lstm': {'id': '',\n",
       "    'Training Model': 'LSTM',\n",
       "    'Training Dataset': 'ABSADatasets.Multilingual',\n",
       "    'Language': 'RNA',\n",
       "    'Description': 'Trained on RTX3090',\n",
       "    'Available Version': '1.16.0+',\n",
       "    'Checkpoint File': 'lstm_degrad_acc_85.26_f1_84.62.zip',\n",
       "    'Author': 'H, Yang (hy345@exeter.ac.uk)'},\n",
       "   'degrad_bert': {'id': '',\n",
       "    'Training Model': 'MLP',\n",
       "    'Training Dataset': 'Degrad',\n",
       "    'Language': 'RNA',\n",
       "    'Description': 'Trained on RTX3090',\n",
       "    'Available Version': '1.16.0+',\n",
       "    'Checkpoint File': 'bert_mlp_degrad_acc_87.44_f1_86.99.zip',\n",
       "    'Author': 'H, Yang (hy345@exeter.ac.uk)'}},\n",
       "  'TAD': {'tad-sst2': {'id': '',\n",
       "    'Training Model': 'TAD',\n",
       "    'Training Dataset': 'SST2',\n",
       "    'Language': 'English',\n",
       "    'Description': 'Trained on RTX3090',\n",
       "    'Available Version': '2.3.4+',\n",
       "    'Checkpoint File': 'TAD-SST2.zip',\n",
       "    'Author': 'H, Yang (hy345@exeter.ac.uk)'},\n",
       "   'tad-agnews10k': {'id': '',\n",
       "    'Training Model': 'TAD',\n",
       "    'Training Dataset': 'AGNews',\n",
       "    'Language': 'English',\n",
       "    'Description': 'Trained on RTX3090',\n",
       "    'Available Version': '2.3.4+',\n",
       "    'Checkpoint File': 'TAD-AGNews10K.zip',\n",
       "    'Author': 'H, Yang (hy345@exeter.ac.uk)'},\n",
       "   'tad-amazon': {'id': '',\n",
       "    'Training Model': 'TAD',\n",
       "    'Training Dataset': 'AGNews',\n",
       "    'Language': 'English',\n",
       "    'Description': 'Trained on RTX3090',\n",
       "    'Available Version': '2.3.4+',\n",
       "    'Checkpoint File': 'TAD-Amazon.zip',\n",
       "    'Author': 'H, Yang (hy345@exeter.ac.uk)'}},\n",
       "  'CDD': {'promise': {'id': '',\n",
       "    'Training Model': 'CodeT5-small',\n",
       "    'Training Dataset': 'Promise',\n",
       "    'Language': 'Code',\n",
       "    'Description': 'Trained on RTX3090',\n",
       "    'Available Version': '1.16.0+',\n",
       "    'Checkpoint File': 'bert_mlp_all_cpdp_acc_75.33_f1_73.52.zip',\n",
       "    'Author': 'H, Yang (hy345@exeter.ac.uk)'}},\n",
       "  'ASTE': {'english1': {'id': '',\n",
       "    'Training Model': 'DeBERTa-v3-Base',\n",
       "    'Training Dataset': 'SemEval',\n",
       "    'Language': 'English',\n",
       "    'Description': 'Trained on RTX3090',\n",
       "    'Available Version': '2.1.1+',\n",
       "    'Checkpoint File': 'EMCGCN_SemEval_f1_74.01.zip',\n",
       "    'Author': 'H, Yang (hy345@exeter.ac.uk)'},\n",
       "   'english': {'id': '',\n",
       "    'Training Model': 'DeBERTa-v3-Base',\n",
       "    'Training Dataset': 'SemEval',\n",
       "    'Language': 'English',\n",
       "    'Description': 'Trained on RTX3090',\n",
       "    'Available Version': '2.1.1+',\n",
       "    'Checkpoint File': 'ASTE-EMCGCN_SemEval_f1_74.71.zip',\n",
       "    'Author': 'H, Yang (hy345@exeter.ac.uk)'},\n",
       "   'multilingual': {'id': '',\n",
       "    'Training Model': 'DeBERTa-v3-Base',\n",
       "    'Training Dataset': 'SemEval + Synthetic + Chinese_Zhang datasets',\n",
       "    'Language': 'Multilingual',\n",
       "    'Description': 'Trained on RTX3090',\n",
       "    'Available Version': '2.1.1+',\n",
       "    'Checkpoint File': 'EMCGCN-Multilingual-f1_51.95.zip',\n",
       "    'Author': 'H, Yang (hy345@exeter.ac.uk)'}},\n",
       "  'ACOS': {'multilingual': {'id': '',\n",
       "    'Training Model': 'DeBERTa-v3-Base',\n",
       "    'Training Dataset': 'SemEval + Synthetic + Chinese_Zhang datasets',\n",
       "    'Language': 'Multilingual',\n",
       "    'Description': 'Trained on RTX3090',\n",
       "    'Available Version': '2.1.8+',\n",
       "    'Checkpoint File': 'multilingual-acos.zip',\n",
       "    'Author': 'H, Yang (hy345@exeter.ac.uk)'}},\n",
       "  'UPPERTASKCODE': {'promise': {'id': '',\n",
       "    'Training Model': 'CodeT5-small',\n",
       "    'Training Dataset': 'DatasetName',\n",
       "    'Language': '',\n",
       "    'Description': 'Trained on RTX3090',\n",
       "    'Available Version': '1.16.0+',\n",
       "    'Checkpoint File': 'lstm_degrad_acc_85.26_f1_84.62.zip',\n",
       "    'Author': 'H, Yang (hy345@exeter.ac.uk)'}}},\n",
       " '2.0.0': {'APC': {'multilingual': {'id': '',\n",
       "    'Training Model': 'FAST-LSA-T-V2-Deberta',\n",
       "    'Training Dataset': 'APCDatasetList.Multilingual',\n",
       "    'Language': 'Multilingual',\n",
       "    'Description': 'Trained on RTX3090',\n",
       "    'Available Version': '1.10.5+',\n",
       "    'Checkpoint File': 'fast_lcf_bert_Multilingual_acc_87.18_f1_83.11.zip',\n",
       "    'Author': 'H, Yang (hy345@exeter.ac.uk)'},\n",
       "   'multilingual2': {'id': '',\n",
       "    'Training Model': 'FAST-LSA-T-V2-Deberta',\n",
       "    'Training Dataset': 'APCDatasetList.Multilingual',\n",
       "    'Language': 'Multilingual',\n",
       "    'Description': 'Trained on RTX3090',\n",
       "    'Available Version': '1.10.5+',\n",
       "    'Checkpoint File': 'fast_lcf_bert_Multilingual_acc_82.66_f1_82.06.zip',\n",
       "    'Author': 'H, Yang (hy345@exeter.ac.uk)'},\n",
       "   'english': {'id': '',\n",
       "    'Training Model': 'FAST-LSA-T-V2-Deberta',\n",
       "    'Training Dataset': 'APCDatasetList.English',\n",
       "    'Language': 'English',\n",
       "    'Description': 'Trained on RTX3090',\n",
       "    'Available Version': '1.10.5+',\n",
       "    'Checkpoint File': 'fast_lsa_t_v2_English_acc_82.21_f1_81.81.zip',\n",
       "    'Author': 'H, Yang (hy345@exeter.ac.uk)'},\n",
       "   'chinese': {'id': '',\n",
       "    'Training Model': 'FAST-LSA-T-V2-Deberta',\n",
       "    'Training Dataset': 'APCDatasetList.Chinese',\n",
       "    'Language': 'Chinese',\n",
       "    'Description': 'Trained on RTX3090',\n",
       "    'Available Version': '1.10.5+',\n",
       "    'Checkpoint File': 'fast_lsa_t_v2_Chinese_acc_96.0_f1_95.1.zip',\n",
       "    'Author': 'H, Yang (hy345@exeter.ac.uk)'}},\n",
       "  'ATEPC': {'multilingual': {'id': '',\n",
       "    'Training Model': 'FAST-LCF-ATEPC',\n",
       "    'Training Dataset': 'ABSADatasets.Multilingual',\n",
       "    'Language': 'Multilingual',\n",
       "    'Description': 'Trained on RTX3090',\n",
       "    'Available Version': '1.16.0+',\n",
       "    'Checkpoint File': 'fast_lcf_atepc_Multilingual_cdw_apcacc_85.1_apcf1_80.2_atef1_76.45.zip',\n",
       "    'Author': 'H, Yang (hy345@exeter.ac.uk)'},\n",
       "   'multilingual-original': {'id': '',\n",
       "    'Training Model': 'FAST-LCF-ATEPC',\n",
       "    'Training Dataset': 'ABSADatasets.Multilingual',\n",
       "    'Language': 'Multilingual',\n",
       "    'Description': 'Trained on RTX3090',\n",
       "    'Available Version': '1.16.0+',\n",
       "    'Checkpoint File': 'fast_lcf_atepc_Multilingual_cdw_apcacc_80.81_apcf1_73.75_atef1_76.01.zip',\n",
       "    'Author': 'H, Yang (hy345@exeter.ac.uk)'},\n",
       "   'multilingual2': {'id': '',\n",
       "    'Training Model': 'FAST-LCF-ATEPC',\n",
       "    'Training Dataset': 'ABSADatasets.Multilingual',\n",
       "    'Language': 'Multilingual',\n",
       "    'Description': 'Trained on RTX3090',\n",
       "    'Available Version': '1.16.0+',\n",
       "    'Checkpoint File': 'fast_lcf_atepc_Multilingual_cdw_apcacc_78.08_apcf1_77.81_atef1_75.41.zip',\n",
       "    'Author': 'H, Yang (hy345@exeter.ac.uk)'},\n",
       "   'english': {'id': '',\n",
       "    'Training Model': 'FAST-LCF-ATEPC',\n",
       "    'Training Dataset': 'ATEPCDatasetList.English',\n",
       "    'Language': 'English',\n",
       "    'Description': 'Trained on RTX3090',\n",
       "    'Available Version': '1.10.5+',\n",
       "    'Checkpoint File': 'fast_lcf_atepc_English_cdw_apcacc_82.36_apcf1_81.89_atef1_75.43.zip',\n",
       "    'Author': 'H, Yang (hy345@exeter.ac.uk)'},\n",
       "   'chinese': {'id': '',\n",
       "    'Training Model': 'FAST-LCF-ATEPC',\n",
       "    'Training Dataset': 'ATEPCDatasetList.Chinese',\n",
       "    'Language': 'Chinese',\n",
       "    'Description': 'Trained on RTX3090',\n",
       "    'Available Version': '1.10.5+',\n",
       "    'Checkpoint File': 'fast_lcf_atepc_Chinese_cdw_apcacc_96.22_apcf1_95.32_atef1_78.73.zip',\n",
       "    'Author': 'H, Yang (hy345@exeter.ac.uk)'}},\n",
       "  'RNAC': {'degrad_lstm': {'id': '',\n",
       "    'Training Model': 'LSTM',\n",
       "    'Training Dataset': 'ABSADatasets.Multilingual',\n",
       "    'Language': 'RNA',\n",
       "    'Description': 'Trained on RTX3090',\n",
       "    'Available Version': '1.16.0+',\n",
       "    'Checkpoint File': 'lstm_degrad_acc_85.26_f1_84.62.zip',\n",
       "    'Author': 'H, Yang (hy345@exeter.ac.uk)'},\n",
       "   'degrad_bert': {'id': '',\n",
       "    'Training Model': 'MLP',\n",
       "    'Training Dataset': 'Degrad',\n",
       "    'Language': 'RNA',\n",
       "    'Description': 'Trained on RTX3090',\n",
       "    'Available Version': '1.16.0+',\n",
       "    'Checkpoint File': 'bert_mlp_degrad_acc_87.44_f1_86.99.zip',\n",
       "    'Author': 'H, Yang (hy345@exeter.ac.uk)'}},\n",
       "  'TAD': {'tad-sst2': {'id': '',\n",
       "    'Training Model': 'TAD',\n",
       "    'Training Dataset': 'SST2',\n",
       "    'Language': 'English',\n",
       "    'Description': 'Trained on RTX3090',\n",
       "    'Available Version': '1.15+',\n",
       "    'Checkpoint File': 'TAD-SST2.zip',\n",
       "    'Author': 'H, Yang (hy345@exeter.ac.uk)'},\n",
       "   'tad-agnews10k': {'id': '',\n",
       "    'Training Model': 'TAD',\n",
       "    'Training Dataset': 'AGNews',\n",
       "    'Language': 'English',\n",
       "    'Description': 'Trained on RTX3090',\n",
       "    'Available Version': '1.15+',\n",
       "    'Checkpoint File': 'TAD-AGNews10K.zip',\n",
       "    'Author': 'H, Yang (hy345@exeter.ac.uk)'},\n",
       "   'tad-amazon': {'id': '',\n",
       "    'Training Model': 'TAD',\n",
       "    'Training Dataset': 'AGNews',\n",
       "    'Language': 'English',\n",
       "    'Description': 'Trained on RTX3090',\n",
       "    'Available Version': '1.15+',\n",
       "    'Checkpoint File': 'TAD-Amazon.zip',\n",
       "    'Author': 'H, Yang (hy345@exeter.ac.uk)'}},\n",
       "  'CDD': {'promise': {'id': '',\n",
       "    'Training Model': 'CodeT5-small',\n",
       "    'Training Dataset': 'Promise',\n",
       "    'Language': 'Code',\n",
       "    'Description': 'Trained on RTX3090',\n",
       "    'Available Version': '1.16.0+',\n",
       "    'Checkpoint File': 'bert_mlp_all_cpdp_acc_75.33_f1_73.52.zip',\n",
       "    'Author': 'H, Yang (hy345@exeter.ac.uk)'}},\n",
       "  'ASTE': {'english1': {'id': '',\n",
       "    'Training Model': 'DeBERTa-v3-Base',\n",
       "    'Training Dataset': 'SemEval',\n",
       "    'Language': 'English',\n",
       "    'Description': 'Trained on RTX3090',\n",
       "    'Available Version': '2.1.1+',\n",
       "    'Checkpoint File': 'EMCGCN_SemEval_f1_74.01.zip',\n",
       "    'Author': 'H, Yang (hy345@exeter.ac.uk)'},\n",
       "   'english': {'id': '',\n",
       "    'Training Model': 'DeBERTa-v3-Base',\n",
       "    'Training Dataset': 'SemEval',\n",
       "    'Language': 'English',\n",
       "    'Description': 'Trained on RTX3090',\n",
       "    'Available Version': '2.1.1+',\n",
       "    'Checkpoint File': 'ASTE-EMCGCN_SemEval_f1_74.71.zip',\n",
       "    'Author': 'H, Yang (hy345@exeter.ac.uk)'},\n",
       "   'multilingual': {'id': '',\n",
       "    'Training Model': 'DeBERTa-v3-Base',\n",
       "    'Training Dataset': 'SemEval + Synthetic + Chinese_Zhang datasets',\n",
       "    'Language': 'Multilingual',\n",
       "    'Description': 'Trained on RTX3090',\n",
       "    'Available Version': '2.1.1+',\n",
       "    'Checkpoint File': 'EMCGCN-Multilingual-f1_51.95.zip',\n",
       "    'Author': 'H, Yang (hy345@exeter.ac.uk)'}},\n",
       "  'ACOS': {'multilingual': {'id': '',\n",
       "    'Training Model': 'DeBERTa-v3-Base',\n",
       "    'Training Dataset': 'SemEval + Synthetic + Chinese_Zhang datasets',\n",
       "    'Language': 'Multilingual',\n",
       "    'Description': 'Trained on RTX3090',\n",
       "    'Available Version': '2.1.8+',\n",
       "    'Checkpoint File': 'multilingual-acos.zip',\n",
       "    'Author': 'H, Yang (hy345@exeter.ac.uk)'}},\n",
       "  'UPPERTASKCODE': {'promise': {'id': '',\n",
       "    'Training Model': 'CodeT5-small',\n",
       "    'Training Dataset': 'DatasetName',\n",
       "    'Language': '',\n",
       "    'Description': 'Trained on RTX3090',\n",
       "    'Available Version': '1.16.0+',\n",
       "    'Checkpoint File': 'lstm_degrad_acc_85.26_f1_84.62.zip',\n",
       "    'Author': 'H, Yang (hy345@exeter.ac.uk)'}}}}"
      ]
     },
     "execution_count": 22,
     "metadata": {},
     "output_type": "execute_result"
    }
   ],
   "source": [
    "checkpoint_map"
   ]
  },
  {
   "cell_type": "markdown",
   "metadata": {},
   "source": [
    "#### Initializing the ATEPC model\n",
    "Aspect Term Extraction and Polarity Classification"
   ]
  },
  {
   "cell_type": "code",
   "execution_count": 2,
   "metadata": {},
   "outputs": [],
   "source": [
    "from pyabsa import ATEPCCheckpointManager"
   ]
  },
  {
   "cell_type": "code",
   "execution_count": 3,
   "metadata": {},
   "outputs": [
    {
     "name": "stdout",
     "output_type": "stream",
     "text": [
      "[2024-07-25 17:20:49] (2.1.12) ********** \u001b[32mAvailable ATEPC model checkpoints for Version:2.1.12 (this version)\u001b[0m **********\n",
      "[2024-07-25 17:20:49] (2.1.12) ********** \u001b[32mAvailable ATEPC model checkpoints for Version:2.1.12 (this version)\u001b[0m **********\n",
      "[2024-07-25 17:20:49] (2.1.12) \u001b[32mDownloading checkpoint:english \u001b[0m\n",
      "[2024-07-25 17:20:49] (2.1.12) \u001b[31mNotice: The pretrained model are used for testing, it is recommended to train the model on your own custom datasets\u001b[0m\n",
      "[2024-07-25 17:20:49] (2.1.12) Checkpoint already downloaded, skip\n",
      "[2024-07-25 17:20:49] (2.1.12) Load aspect extractor from checkpoints\\ATEPC_ENGLISH_CHECKPOINT\\fast_lcf_atepc_English_cdw_apcacc_82.36_apcf1_81.89_atef1_75.43\n",
      "[2024-07-25 17:20:49] (2.1.12) config: checkpoints\\ATEPC_ENGLISH_CHECKPOINT\\fast_lcf_atepc_English_cdw_apcacc_82.36_apcf1_81.89_atef1_75.43\\fast_lcf_atepc.config\n",
      "[2024-07-25 17:20:49] (2.1.12) state_dict: checkpoints\\ATEPC_ENGLISH_CHECKPOINT\\fast_lcf_atepc_English_cdw_apcacc_82.36_apcf1_81.89_atef1_75.43\\fast_lcf_atepc.state_dict\n",
      "[2024-07-25 17:20:49] (2.1.12) model: None\n",
      "[2024-07-25 17:20:49] (2.1.12) tokenizer: checkpoints\\ATEPC_ENGLISH_CHECKPOINT\\fast_lcf_atepc_English_cdw_apcacc_82.36_apcf1_81.89_atef1_75.43\\fast_lcf_atepc.tokenizer\n",
      "[2024-07-25 17:20:49] (2.1.12) Set Model Device: cpu\n",
      "[2024-07-25 17:20:49] (2.1.12) Device Name: Unknown\n"
     ]
    },
    {
     "name": "stderr",
     "output_type": "stream",
     "text": [
      "d:\\Softwares\\anaconda\\envs\\sentiment-analysis\\lib\\site-packages\\huggingface_hub\\file_download.py:1150: FutureWarning: `resume_download` is deprecated and will be removed in version 1.0.0. Downloads always resume when possible. If you want to force a new download, use `force_download=True`.\n",
      "  warnings.warn(\n",
      "Some weights of the model checkpoint at microsoft/deberta-v3-base were not used when initializing DebertaV2Model: ['mask_predictions.classifier.bias', 'lm_predictions.lm_head.dense.weight', 'mask_predictions.dense.weight', 'lm_predictions.lm_head.LayerNorm.weight', 'mask_predictions.dense.bias', 'lm_predictions.lm_head.dense.bias', 'lm_predictions.lm_head.bias', 'mask_predictions.classifier.weight', 'lm_predictions.lm_head.LayerNorm.bias', 'mask_predictions.LayerNorm.bias', 'mask_predictions.LayerNorm.weight']\n",
      "- This IS expected if you are initializing DebertaV2Model from the checkpoint of a model trained on another task or with another architecture (e.g. initializing a BertForSequenceClassification model from a BertForPreTraining model).\n",
      "- This IS NOT expected if you are initializing DebertaV2Model from the checkpoint of a model that you expect to be exactly identical (initializing a BertForSequenceClassification model from a BertForSequenceClassification model).\n",
      "Special tokens have been added in the vocabulary, make sure the associated word embeddings are fine-tuned or trained.\n",
      "d:\\Softwares\\anaconda\\envs\\sentiment-analysis\\lib\\site-packages\\transformers\\convert_slow_tokenizer.py:454: UserWarning: The sentencepiece tokenizer that you are converting to a fast tokenizer uses the byte fallback option which is not implemented in the fast tokenizers. In practice this means that the fast version of the tokenizer can produce unknown tokens whereas the sentencepiece version would have converted these unknown tokens into a sequence of byte tokens matching the original piece of text.\n",
      "  warnings.warn(\n",
      "Special tokens have been added in the vocabulary, make sure the associated word embeddings are fine-tuned or trained.\n"
     ]
    }
   ],
   "source": [
    "aspect_extractor = ATEPCCheckpointManager.get_aspect_extractor(checkpoint=\"english\")"
   ]
  },
  {
   "cell_type": "markdown",
   "metadata": {},
   "source": [
    "#### Testing the model"
   ]
  },
  {
   "cell_type": "code",
   "execution_count": 9,
   "metadata": {},
   "outputs": [],
   "source": [
    "text = [\n",
    "    \"The phone has a decent battery but the camera is not good. However, the screen quality is excellent\"\n",
    "]"
   ]
  },
  {
   "cell_type": "code",
   "execution_count": 10,
   "metadata": {},
   "outputs": [
    {
     "data": {
      "text/plain": [
       "['The phone has a decent battery but the camera is not good. However, the screen quality is excellent']"
      ]
     },
     "execution_count": 10,
     "metadata": {},
     "output_type": "execute_result"
    }
   ],
   "source": [
    "text"
   ]
  },
  {
   "cell_type": "code",
   "execution_count": 11,
   "metadata": {},
   "outputs": [
    {
     "name": "stdout",
     "output_type": "stream",
     "text": [
      "[2024-07-25 17:23:14] (2.1.12) The results of aspect term extraction have been saved in d:\\Projects\\Aspect-Based-Sentiment-Analysis\\notebooks\\Aspect Term Extraction and Polarity Classification.FAST_LCF_ATEPC.result.json\n",
      "[2024-07-25 17:23:14] (2.1.12) Example 0: The phone has a decent \u001b[32m<battery:Positive Confidence:0.9978>\u001b[0m but the \u001b[31m<camera:Negative Confidence:0.9985>\u001b[0m is not good . However , the \u001b[32m<screen quality:Positive Confidence:0.9992>\u001b[0m is excellent\n"
     ]
    },
    {
     "name": "stderr",
     "output_type": "stream",
     "text": [
      "d:\\Softwares\\anaconda\\envs\\sentiment-analysis\\lib\\site-packages\\pyabsa-2.1.12-py3.10.egg\\pyabsa\\tasks\\AspectTermExtraction\\prediction\\aspect_extractor.py:644: UserWarning: Implicit dimension choice for softmax has been deprecated. Change the call to include dim=X as an argument.\n",
      "  float(x) for x in F.softmax(i_apc_logits).cpu().numpy().tolist()\n"
     ]
    }
   ],
   "source": [
    "result = aspect_extractor.extract_aspect(inference_source=text, predict_sentiment=True)"
   ]
  },
  {
   "cell_type": "code",
   "execution_count": 12,
   "metadata": {},
   "outputs": [
    {
     "data": {
      "text/plain": [
       "[{'sentence': 'The phone has a decent battery but the camera is not good . However , the screen quality is excellent',\n",
       "  'IOB': ['O',\n",
       "   'O',\n",
       "   'O',\n",
       "   'O',\n",
       "   'O',\n",
       "   'B-ASP',\n",
       "   'O',\n",
       "   'O',\n",
       "   'B-ASP',\n",
       "   'O',\n",
       "   'O',\n",
       "   'O',\n",
       "   'O',\n",
       "   'O',\n",
       "   'O',\n",
       "   'O',\n",
       "   'B-ASP',\n",
       "   'I-ASP',\n",
       "   'O',\n",
       "   'O'],\n",
       "  'tokens': ['The',\n",
       "   'phone',\n",
       "   'has',\n",
       "   'a',\n",
       "   'decent',\n",
       "   'battery',\n",
       "   'but',\n",
       "   'the',\n",
       "   'camera',\n",
       "   'is',\n",
       "   'not',\n",
       "   'good',\n",
       "   '.',\n",
       "   'However',\n",
       "   ',',\n",
       "   'the',\n",
       "   'screen',\n",
       "   'quality',\n",
       "   'is',\n",
       "   'excellent'],\n",
       "  'aspect': ['battery', 'camera', 'screen quality'],\n",
       "  'position': [[6], [9], [17, 18]],\n",
       "  'sentiment': ['Positive', 'Negative', 'Positive'],\n",
       "  'probs': [[0.001968398690223694, 0.0002491613558959216, 0.9977824091911316],\n",
       "   [0.9984546899795532, 0.0013503067893907428, 0.0001949253201019019],\n",
       "   [0.0005459595122374594, 0.00021479764836840332, 0.9992392063140869]],\n",
       "  'confidence': [0.9978, 0.9985, 0.9992]}]"
      ]
     },
     "execution_count": 12,
     "metadata": {},
     "output_type": "execute_result"
    }
   ],
   "source": [
    "result"
   ]
  },
  {
   "cell_type": "markdown",
   "metadata": {},
   "source": [
    "#### Parsing the results"
   ]
  },
  {
   "cell_type": "code",
   "execution_count": 15,
   "metadata": {},
   "outputs": [],
   "source": [
    "aspects, sentiment, confidence = (\n",
    "    result[0][\"aspect\"],\n",
    "    result[0][\"sentiment\"],\n",
    "    result[0][\"confidence\"],\n",
    ")"
   ]
  },
  {
   "cell_type": "code",
   "execution_count": 17,
   "metadata": {},
   "outputs": [
    {
     "data": {
      "text/plain": [
       "(['battery', 'camera', 'screen quality'],\n",
       " ['Positive', 'Negative', 'Positive'],\n",
       " [0.9978, 0.9985, 0.9992])"
      ]
     },
     "execution_count": 17,
     "metadata": {},
     "output_type": "execute_result"
    }
   ],
   "source": [
    "aspects, sentiment, confidence"
   ]
  },
  {
   "cell_type": "code",
   "execution_count": 19,
   "metadata": {},
   "outputs": [
    {
     "name": "stdout",
     "output_type": "stream",
     "text": [
      "Aspect: battery | Sentiment: Positive | Confidence: 0.9978\n",
      "Aspect: camera | Sentiment: Negative | Confidence: 0.9985\n",
      "Aspect: screen quality | Sentiment: Positive | Confidence: 0.9992\n"
     ]
    }
   ],
   "source": [
    "for i in range(len(aspects)):\n",
    "    print(\n",
    "        f\"Aspect: {aspects[i]} | Sentiment: {sentiment[i]} | Confidence: {confidence[i]}\"\n",
    "    )"
   ]
  },
  {
   "cell_type": "code",
   "execution_count": 20,
   "metadata": {},
   "outputs": [
    {
     "data": {
      "text/plain": [
       "{'battery': 'Positive', 'camera': 'Negative', 'screen quality': 'Positive'}"
      ]
     },
     "execution_count": 20,
     "metadata": {},
     "output_type": "execute_result"
    }
   ],
   "source": [
    "aspect_sentiments = {aspect: sentiment for aspect, sentiment in zip(aspects, sentiment)}\n",
    "aspect_sentiments"
   ]
  }
 ],
 "metadata": {
  "kernelspec": {
   "display_name": "sentiment-analysis",
   "language": "python",
   "name": "python3"
  },
  "language_info": {
   "codemirror_mode": {
    "name": "ipython",
    "version": 3
   },
   "file_extension": ".py",
   "mimetype": "text/x-python",
   "name": "python",
   "nbconvert_exporter": "python",
   "pygments_lexer": "ipython3",
   "version": "3.10.14"
  }
 },
 "nbformat": 4,
 "nbformat_minor": 2
}
